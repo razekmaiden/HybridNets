{
 "cells": [
  {
   "cell_type": "code",
   "execution_count": 9,
   "metadata": {},
   "outputs": [
    {
     "name": "stdout",
     "output_type": "stream",
     "text": [
      "FOUND 6 IMAGES\n",
      "DETECTED SEGMENTATION MODE FROM WEIGHT AND PROJECT FILE: multiclass\n"
     ]
    }
   ],
   "source": [
    "# Download end-to-end weights\n",
    "#!curl --create-dirs -L -o weights/hybridnets.pth https://github.com/datvuthanh/HybridNets/releases/download/v1.0/hybridnets.pth\n",
    "\n",
    "# Image inference\n",
    "!python hybridnets_test.py -w weights/hybridnets.pth --source demo/image --output demo_result --imshow False --imwrite True\n",
    "\n",
    "# Video inference\n",
    "#!#python hybridnets_test_videos.py -w weights/hybridnets.pth --source demo/video --output demo_result\n",
    "\n",
    "# Result is saved in a new folder called demo_result"
   ]
  },
  {
   "cell_type": "code",
   "execution_count": 1,
   "metadata": {},
   "outputs": [],
   "source": [
    "!python train.py -p bdd100k_road -c 3 -n 2 -b 8 -w weights/hybridnets.pth --lr 1e-5 --optim adamw --num_epochs 1"
   ]
  }
 ],
 "metadata": {
  "kernelspec": {
   "display_name": "multimodel",
   "language": "python",
   "name": "python3"
  },
  "language_info": {
   "codemirror_mode": {
    "name": "ipython",
    "version": 3
   },
   "file_extension": ".py",
   "mimetype": "text/x-python",
   "name": "python",
   "nbconvert_exporter": "python",
   "pygments_lexer": "ipython3",
   "version": "3.10.14"
  }
 },
 "nbformat": 4,
 "nbformat_minor": 2
}
